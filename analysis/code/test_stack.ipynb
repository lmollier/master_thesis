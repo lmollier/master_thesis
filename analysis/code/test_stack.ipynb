{
 "cells": [
  {
   "cell_type": "code",
   "execution_count": 5,
   "id": "b2375980",
   "metadata": {},
   "outputs": [],
   "source": [
    "import os\n",
    "import re\n",
    "import pickle\n",
    "\n",
    "import numpy as np\n",
    "import matplotlib.pyplot as plt\n",
    "import uproot3\n",
    "from coffea import hist\n",
    "\n",
    "from samples import signal_samples\n",
    "from helpers import files_from_dir, files_from_dirs\n",
    "#from exp_limits import exp_limits_mu\n",
    "\n",
    "from HNLAnalysis import HNLAnalysis\n",
    "from ROOT import TFile, TH1D, THStack, kRed, kBlue\n"
   ]
  },
  {
   "cell_type": "code",
   "execution_count": 6,
   "id": "a4b4a7ee",
   "metadata": {},
   "outputs": [],
   "source": [
    "# Read in reults from coffea run\n",
    "#tag = 'bck_WZ_ZZ_TT_tighter_sel_electron'\n",
    "tag = '220425_test_newbck_1'\n",
    "\n",
    "with open(f'result_{tag}.pkl', 'rb') as f:\n",
    "    result = pickle.load(f)\n",
    "with open (f'counter_{tag}.pkl', 'rb') as f:\n",
    "    event_counter = pickle.load(f)\n"
   ]
  },
  {
   "cell_type": "code",
   "execution_count": 7,
   "id": "ad8ad25f",
   "metadata": {},
   "outputs": [],
   "source": [
    "# Lumi and cross sections for plotting\n",
    "xsecs = { # pb\n",
    "\n",
    "    #'ZZ':0.0349,\n",
    "    #'ZZ_old':0.0349,\n",
    "    'WZ':5.213,\n",
    "    'WZ_old':5.213,\n",
    "}\n",
    "\n",
    "lumi = 60000. # pb-1\n",
    "plot_scale = {\n",
    "\n",
    "    #'ZZ':1.,\n",
    "    #'ZZ_old':1.,\n",
    "    'WZ':1.,\n",
    "    'WZ_old':1.,\n",
    "}\n",
    "\n",
    "event_counter['sumw']['Data'] = lumi\n",
    "\n",
    "# A bit hacky treatment of same-sign, more elegant way well possible...\n",
    "#for k, v in list(xsecs.items()):\n",
    "#    if not 'HNL' in k:\n",
    "#        xsecs[k+'SS'] = v\n",
    "#for k, v in list(plot_scale.items()):\n",
    "#    if not 'HNL' in k and not k+'SS' in plot_scale:\n",
    "#        plot_scale[k+'SS'] = v\n",
    "#for k, v in list(xsecs.items()):\n",
    "#    if 'Data' in k:\n",
    "#        event_counter['sumw'][k] = lumi\n",
    "#    elif k.endswith('SS'):\n",
    "#        event_counter['sumw'][k] = event_counter['sumw'][k[:-2]]\n",
    "        "
   ]
  },
  {
   "cell_type": "code",
   "execution_count": 9,
   "id": "a5a4dead",
   "metadata": {},
   "outputs": [
    {
     "name": "stdout",
     "output_type": "stream",
     "text": [
      "[<cppyy.gbl.TH1D object at 0x5631dd54bb60>, <cppyy.gbl.TH1D object at 0x5631dd54b5c0>]\n",
      "   \n",
      "[<cppyy.gbl.TH1D object at 0x5631dd57a1f0>, <cppyy.gbl.TH1D object at 0x5631dd579d90>]\n",
      "   \n",
      "[<cppyy.gbl.TH1D object at 0x5631dd96abf0>, <cppyy.gbl.TH1D object at 0x5631dd96b050>]\n",
      "   \n",
      "[<cppyy.gbl.TH1D object at 0x5631dd954580>, <cppyy.gbl.TH1D object at 0x5631dd9654d0>]\n",
      "   \n",
      "[<cppyy.gbl.TH1D object at 0x5631dd9663a0>, <cppyy.gbl.TH1D object at 0x5631dd961120>]\n",
      "   \n",
      "[<cppyy.gbl.TH1D object at 0x5631dd9733a0>, <cppyy.gbl.TH1D object at 0x5631dd961690>]\n",
      "   \n",
      "[<cppyy.gbl.TH1D object at 0x5631dd9689b0>, <cppyy.gbl.TH1D object at 0x5631dd968550>]\n",
      "   \n",
      "[<cppyy.gbl.TH1D object at 0x5631dd970860>, <cppyy.gbl.TH1D object at 0x5631dd9849a0>]\n",
      "   \n"
     ]
    },
    {
     "data": {
      "image/png": "[encoded data removed]",
      "text/plain": [
       "<Figure size 432x288 with 1 Axes>"
      ]
     },
     "metadata": {
      "needs_background": "light"
     },
     "output_type": "display_data"
    },
    {
     "name": "stderr",
     "output_type": "stream",
     "text": [
      "Info in <TCanvas::MakeDefCanvas>:  created default TCanvas with name c1\n"
     ]
    }
   ],
   "source": [
    "\n",
    "import re\n",
    "import matplotlib as mpl\n",
    "%matplotlib inline\n",
    "from cycler import cycler\n",
    "import warnings\n",
    "\n",
    "not_hnl_data = re.compile('(?!HNL)(?!Data)^((?!SS).)*$')\n",
    "hnl = re.compile('(HNL)')\n",
    "# data = re.compile('(Data)((?!InvIso).)*$')\n",
    "data = re.compile('^Data$|^DataSS$|^DataInvTimeSameBX$|^DataSSInvTimeSameBX$')\n",
    "\n",
    "cols_bkg = ['#fde6f7', '#fafbc3', '#c4fbd6', '#b3e5f4']\n",
    "cols_sig = ['black', '#386cb0','#f0027f','#bf5b17','#666666', '#7fc97f','#beaed4','#fdc086','#ffff99']\n",
    "# cols_sig = ['red', 'green', 'blue','purple']\n",
    "mpl.rcParams['axes.prop_cycle'] = cycler(color=cols_bkg)\n",
    "colors_root = [kBlue,kRed]\n",
    "\n",
    "for v in HNLAnalysis.get_var_axis_pairs():\n",
    "   \n",
    "    try:\n",
    "        var = v[0]\n",
    "        scales = {s:plot_scale[s]*lumi*xsecs[s]/event_counter['sumw'][s] if event_counter['sumw'][s] else 1. for s in xsecs.keys()}\n",
    "        back_scales = {s:1./v for s, v in scales.items()}\n",
    "        result[var].scale(scales, axis='ds')\n",
    "        if not len(result[var].values()):\n",
    "            continue\n",
    "        plt.gca().set_prop_cycle(color=cols_sig)\n",
    "        warnings.filterwarnings(\"ignore\")\n",
    "        \n",
    "        #loop over all histogram of bck\n",
    "        fout = uproot3.recreate('test_stack_'+ var+'.root' )\n",
    "        for d in result[var].axis(\"ds\").identifiers():\n",
    "            new_h = result[var][d].integrate(\"ds\")\n",
    "            fout[str(d)] = hist.export1d(new_h)\n",
    "           \n",
    "\n",
    "        fout.close()\n",
    "        \n",
    "        fout = TFile('test_stack_'+ var+'.root', \"UPDATE\")\n",
    "        list_histos = []\n",
    "        for d in result[var].axis(\"ds\").identifiers():\n",
    "            list_histos.append(fout.Get(str(d)))\n",
    "        print(list_histos)\n",
    "        hs = THStack(\"hs\",\"\")\n",
    "        i = 0\n",
    "        for h in list_histos:\n",
    "            h.SetFillColor(colors_root[i]);\n",
    "            i = i+1\n",
    "            hs.Add(h)\n",
    "        hs.Draw()    \n",
    "        hs.Write()     \n",
    "            \n",
    "            \n",
    "            \n",
    "        name_plot = tag +\"_\"+ var\n",
    "        print('   ')\n",
    "        result[var].scale(back_scales, axis='ds') #Alternatively make a deepcopy for each round of plotting?\n",
    "        warnings.filterwarnings(\"default\")\n",
    "    except AssertionError:\n",
    "        pass\n",
    "\n"
   ]
  },
  {
   "cell_type": "code",
   "execution_count": null,
   "id": "c2bf73f3",
   "metadata": {},
   "outputs": [],
   "source": []
  },
  {
   "cell_type": "code",
   "execution_count": null,
   "id": "6e2c37a1",
   "metadata": {},
   "outputs": [],
   "source": []
  },
  {
   "cell_type": "code",
   "execution_count": null,
   "id": "42c2865e",
   "metadata": {},
   "outputs": [],
   "source": []
  }
 ],
 "metadata": {
  "kernelspec": {
   "display_name": "Python 3 (ipykernel)",
   "language": "python",
   "name": "python3"
  },
  "language_info": {
   "codemirror_mode": {
    "name": "ipython",
    "version": 3
   },
   "file_extension": ".py",
   "mimetype": "text/x-python",
   "name": "python",
   "nbconvert_exporter": "python",
   "pygments_lexer": "ipython3",
   "version": "3.9.12"
  }
 },
 "nbformat": 4,
 "nbformat_minor": 5
}
