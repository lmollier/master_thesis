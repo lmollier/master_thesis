{
 "cells": [
  {
   "cell_type": "markdown",
   "id": "4e4055ed",
   "metadata": {},
   "source": [
    "TEST OF NEW BACKGROUND MADE BY PAUL"
   ]
  },
  {
   "cell_type": "code",
   "execution_count": 1,
   "id": "74ed7027",
   "metadata": {},
   "outputs": [
    {
     "name": "stderr",
     "output_type": "stream",
     "text": [
      "/afs/cern.ch/user/l/lmollier/miniconda3/lib/python3.9/site-packages/coffea/nanoevents/schemas/nanoaod.py:193: RuntimeWarning: Missing cross-reference index for FatJet_genJetAK8Idx => GenJetAK8\n",
      "  warnings.warn(\n",
      "/afs/cern.ch/user/l/lmollier/miniconda3/lib/python3.9/site-packages/coffea/nanoevents/schemas/nanoaod.py:193: RuntimeWarning: Missing cross-reference index for FatJet_subJetIdx1 => SubJet\n",
      "  warnings.warn(\n",
      "/afs/cern.ch/user/l/lmollier/miniconda3/lib/python3.9/site-packages/coffea/nanoevents/schemas/nanoaod.py:193: RuntimeWarning: Missing cross-reference index for FatJet_subJetIdx2 => SubJet\n",
      "  warnings.warn(\n"
     ]
    }
   ],
   "source": [
    "###FOR TTBAR BACKGROUND\n",
    "####FOR EMU + TAU\n",
    "import awkward as ak\n",
    "from coffea.nanoevents import NanoEventsFactory, NanoAODSchema\n",
    "from helpers import delta_r, delta_phi, inv_mass_3p, cos_opening_angle, inv_mass, delta_eta\n",
    "from samples import signal_samples\n",
    "from helpers import files_from_dir, files_from_dirs\n",
    "import numpy as np\n",
    "import matplotlib.pyplot as plt\n",
    "import mplhep as hep\n",
    "import warnings\n",
    "from scipy.stats import chisquare\n",
    "from scipy.stats import ks_2samp\n",
    "import os\n",
    "local_dir = \"/eos/user/l/lmollier/PDM/data/bck/nanoAOD/tt2l2nu\"\n",
    "samples = files_from_dir(local_dir),\n",
    "\n",
    "file = samples[0][0]\n",
    "events = NanoEventsFactory.from_root(file, schemaclass=NanoAODSchema).events()"
   ]
  },
  {
   "cell_type": "code",
   "execution_count": null,
   "id": "17e0151b",
   "metadata": {},
   "outputs": [],
   "source": [
    "events['SelElectron'] = events.Electron[(events.Electron.pt > 24.) & (events.Electron.mvaFall17V2Iso_WP90 > 0.5)]\n",
    "events['SelMuon'] = events.Muon[(events.Muon.pt > 24.) & (events.Muon.mediumPromptId) & (events.Muon.pfRelIso03_all < 0.2) & (np.abs(events.Muon.dxy) < 0.005)]\n",
    "muon1, electron1 = ak.unzip(ak.cartesian([events.SelMuon, events.SelElectron], nested=True))\n",
    "match1 = ak.any(muon1.jetIdx == electron1.jetIdx, axis=-1, mask_identity=False)        \n",
    "events['SelMuon'] = events.SelMuon[(~(match1))]    \n",
    "events['SelTau'] = events.Tau[(events.Tau.pt > 20.) & (abs(events.Tau.eta) < 2.3)& (events.Tau.idDeepTau2017v2p1VSmu > 0.5) & (events.Tau.idDeepTau2017v2p1VSe > 0.5) & (events.Tau.idDeepTau2017v2p1VSjet >=8)]\n",
    "tau2, electron2 = ak.unzip(ak.cartesian([events.SelTau, events.SelElectron], nested=True))\n",
    "match2 = ak.any(tau2.jetIdx == electron2.jetIdx, axis=-1, mask_identity=False)\n",
    "tau3, muon3 = ak.unzip(ak.cartesian([events.SelTau, events.SelMuon], nested=True))\n",
    "match3 = ak.any(tau3.jetIdx == muon3.jetIdx, axis=-1, mask_identity=False)\n",
    "events['SelTau'] = events.SelTau[((~(match2) & ~(match3)) )]  \n"
   ]
  },
  {
   "cell_type": "code",
   "execution_count": null,
   "id": "814b7e98",
   "metadata": {},
   "outputs": [],
   "source": []
  }
 ],
 "metadata": {
  "kernelspec": {
   "display_name": "Python 3 (ipykernel)",
   "language": "python",
   "name": "python3"
  },
  "language_info": {
   "codemirror_mode": {
    "name": "ipython",
    "version": 3
   },
   "file_extension": ".py",
   "mimetype": "text/x-python",
   "name": "python",
   "nbconvert_exporter": "python",
   "pygments_lexer": "ipython3",
   "version": "3.9.7"
  }
 },
 "nbformat": 4,
 "nbformat_minor": 5
}
