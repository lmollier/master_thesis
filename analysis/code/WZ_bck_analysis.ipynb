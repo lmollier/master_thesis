{
 "cells": [
  {
   "cell_type": "code",
   "execution_count": 6,
   "metadata": {},
   "outputs": [
    {
     "name": "stdout",
     "output_type": "stream",
     "text": [
      "done\n"
     ]
    },
    {
     "name": "stderr",
     "output_type": "stream",
     "text": [
      "C:\\Users\\lucas\\miniconda3\\envs\\env_conda\\envs\\PDM\\lib\\site-packages\\coffea\\nanoevents\\schemas\\nanoaod.py:195: RuntimeWarning: Missing cross-reference index for FatJet_genJetAK8Idx => GenJetAK8\n",
      "  RuntimeWarning,\n",
      "C:\\Users\\lucas\\miniconda3\\envs\\env_conda\\envs\\PDM\\lib\\site-packages\\coffea\\nanoevents\\schemas\\nanoaod.py:195: RuntimeWarning: Missing cross-reference index for FatJet_subJetIdx1 => SubJet\n",
      "  RuntimeWarning,\n",
      "C:\\Users\\lucas\\miniconda3\\envs\\env_conda\\envs\\PDM\\lib\\site-packages\\coffea\\nanoevents\\schemas\\nanoaod.py:195: RuntimeWarning: Missing cross-reference index for FatJet_subJetIdx2 => SubJet\n",
      "  RuntimeWarning,\n"
     ]
    }
   ],
   "source": [
    "import awkward as ak\n",
    "from coffea.nanoevents import NanoEventsFactory, NanoAODSchema\n",
    "import numpy as np\n",
    "from matplotlib import pyplot as plt \n",
    "\n",
    "fname = 'C:\\\\Users\\\\lucas\\\\Desktop\\\\PDM\\\\data\\\\backgrounds\\\\wz\\\\nano.root'\n",
    "events = NanoEventsFactory.from_root(fname, schemaclass=NanoAODSchema).events()\n",
    "print(\"done\")"
   ]
  },
  {
   "cell_type": "code",
   "execution_count": 8,
   "metadata": {},
   "outputs": [
    {
     "name": "stdout",
     "output_type": "stream",
     "text": [
      "454011\n",
      "454011\n",
      "454011\n",
      "Nice!\n",
      "[GenParticle, GenParticle, GenParticle, GenParticle]\n",
      "[93.5, 88.2, 91.5, 90.8, 120, 91.2, 88.5, ... 91, 91.5, 90.2, 90.2, 89.5, 89, 95]\n"
     ]
    },
    {
     "data": {
      "image/png": "[encoded data removed]",
      "text/plain": [
       "<Figure size 432x288 with 1 Axes>"
      ]
     },
     "metadata": {
      "needs_background": "light"
     },
     "output_type": "display_data"
    }
   ],
   "source": [
    "z =  events.GenPart[(np.abs(events.GenPart.pdgId) == 23) ]\n",
    "print(len(events))\n",
    "print(len(z))\n",
    "z_from_q = ak.any(abs(z.distinctParent.pdgId) <= 6, axis = -1)\n",
    "z_from_g = ak.any(abs(z.distinctParent.pdgId) == 21, axis = -1)\n",
    "z_from_proton = z_from_q | z_from_g\n",
    "print(len(z_from_proton))\n",
    "print(\"Nice!\")\n",
    "z_from_proton = z[z_from_proton]\n",
    "print(z_from_proton[0])\n",
    "mass_z_from_proton = z_from_proton[:,0].mass\n",
    "print(mass_z_from_proton)\n",
    "plt.hist(mass_z_from_proton,bins=100) \n",
    "plt.title(\"histogram\") \n",
    "plt.show()\n"
   ]
  },
  {
   "cell_type": "code",
   "execution_count": 43,
   "metadata": {},
   "outputs": [
    {
     "name": "stdout",
     "output_type": "stream",
     "text": [
      "454011\n",
      "454011\n",
      "454011\n",
      "Nice!\n",
      "[[GenParticle, GenParticle, GenParticle, ... GenParticle, GenParticle, GenParticle]]\n"
     ]
    },
    {
     "ename": "ValueError",
     "evalue": "too many jagged slice dimensions for array\n\n(https://github.com/scikit-hep/awkward-1.0/blob/1.7.0/src/libawkward/array/NumpyArray.cpp#L3893)",
     "output_type": "error",
     "traceback": [
      "\u001b[1;31m---------------------------------------------------------------------------\u001b[0m",
      "\u001b[1;31mValueError\u001b[0m                                Traceback (most recent call last)",
      "\u001b[1;32m~\\AppData\\Local\\Temp\\ipykernel_7916\\2263224248.py\u001b[0m in \u001b[0;36m<module>\u001b[1;34m\u001b[0m\n\u001b[0;32m     10\u001b[0m \u001b[0mprint\u001b[0m\u001b[1;33m(\u001b[0m\u001b[0mz_from_proton\u001b[0m\u001b[1;33m)\u001b[0m\u001b[1;33m\u001b[0m\u001b[1;33m\u001b[0m\u001b[0m\n\u001b[0;32m     11\u001b[0m \u001b[0mz_from_proton\u001b[0m \u001b[1;33m=\u001b[0m \u001b[0mak\u001b[0m\u001b[1;33m.\u001b[0m\u001b[0mflatten\u001b[0m\u001b[1;33m(\u001b[0m\u001b[0mz_from_proton\u001b[0m\u001b[1;33m)\u001b[0m\u001b[1;33m\u001b[0m\u001b[1;33m\u001b[0m\u001b[0m\n\u001b[1;32m---> 12\u001b[1;33m \u001b[0mz_from_proton\u001b[0m \u001b[1;33m=\u001b[0m \u001b[0mz_from_proton\u001b[0m\u001b[1;33m[\u001b[0m\u001b[1;33m(\u001b[0m\u001b[0mabs\u001b[0m\u001b[1;33m(\u001b[0m\u001b[0mz_from_proton\u001b[0m\u001b[1;33m.\u001b[0m\u001b[0mdistinctChildren\u001b[0m\u001b[1;33m.\u001b[0m\u001b[0mpdgId\u001b[0m\u001b[1;33m)\u001b[0m \u001b[1;33m==\u001b[0m \u001b[1;36m11\u001b[0m\u001b[1;33m)\u001b[0m\u001b[1;33m]\u001b[0m\u001b[1;33m\u001b[0m\u001b[1;33m\u001b[0m\u001b[0m\n\u001b[0m\u001b[0;32m     13\u001b[0m \u001b[0mprint\u001b[0m\u001b[1;33m(\u001b[0m\u001b[0mz_from_proton\u001b[0m\u001b[1;33m)\u001b[0m\u001b[1;33m\u001b[0m\u001b[1;33m\u001b[0m\u001b[0m\n\u001b[0;32m     14\u001b[0m \u001b[1;33m\u001b[0m\u001b[0m\n",
      "\u001b[1;32m~\\miniconda3\\envs\\env_conda\\envs\\PDM\\lib\\site-packages\\awkward\\highlevel.py\u001b[0m in \u001b[0;36m__getitem__\u001b[1;34m(self, where)\u001b[0m\n\u001b[0;32m    995\u001b[0m         \"\"\"\n\u001b[0;32m    996\u001b[0m         \u001b[1;32mif\u001b[0m \u001b[1;32mnot\u001b[0m \u001b[0mhasattr\u001b[0m\u001b[1;33m(\u001b[0m\u001b[0mself\u001b[0m\u001b[1;33m,\u001b[0m \u001b[1;34m\"_tracers\"\u001b[0m\u001b[1;33m)\u001b[0m\u001b[1;33m:\u001b[0m\u001b[1;33m\u001b[0m\u001b[1;33m\u001b[0m\u001b[0m\n\u001b[1;32m--> 997\u001b[1;33m             \u001b[0mtmp\u001b[0m \u001b[1;33m=\u001b[0m \u001b[0mak\u001b[0m\u001b[1;33m.\u001b[0m\u001b[0m_util\u001b[0m\u001b[1;33m.\u001b[0m\u001b[0mwrap\u001b[0m\u001b[1;33m(\u001b[0m\u001b[0mself\u001b[0m\u001b[1;33m.\u001b[0m\u001b[0mlayout\u001b[0m\u001b[1;33m[\u001b[0m\u001b[0mwhere\u001b[0m\u001b[1;33m]\u001b[0m\u001b[1;33m,\u001b[0m \u001b[0mself\u001b[0m\u001b[1;33m.\u001b[0m\u001b[0m_behavior\u001b[0m\u001b[1;33m)\u001b[0m\u001b[1;33m\u001b[0m\u001b[1;33m\u001b[0m\u001b[0m\n\u001b[0m\u001b[0;32m    998\u001b[0m         \u001b[1;32melse\u001b[0m\u001b[1;33m:\u001b[0m\u001b[1;33m\u001b[0m\u001b[1;33m\u001b[0m\u001b[0m\n\u001b[0;32m    999\u001b[0m             \u001b[0mtmp\u001b[0m \u001b[1;33m=\u001b[0m \u001b[0mak\u001b[0m\u001b[1;33m.\u001b[0m\u001b[0m_connect\u001b[0m\u001b[1;33m.\u001b[0m\u001b[0m_jax\u001b[0m\u001b[1;33m.\u001b[0m\u001b[0mjax_utils\u001b[0m\u001b[1;33m.\u001b[0m\u001b[0m_jaxtracers_getitem\u001b[0m\u001b[1;33m(\u001b[0m\u001b[0mself\u001b[0m\u001b[1;33m,\u001b[0m \u001b[0mwhere\u001b[0m\u001b[1;33m)\u001b[0m\u001b[1;33m\u001b[0m\u001b[1;33m\u001b[0m\u001b[0m\n",
      "\u001b[1;31mValueError\u001b[0m: too many jagged slice dimensions for array\n\n(https://github.com/scikit-hep/awkward-1.0/blob/1.7.0/src/libawkward/array/NumpyArray.cpp#L3893)"
     ]
    }
   ],
   "source": [
    "z =  events.GenPart[(np.abs(events.GenPart.pdgId) == 23) ]\n",
    "print(len(events))\n",
    "print(len(z))\n",
    "z_from_q = ak.any(abs(z.distinctParent.pdgId) <= 6, axis = -1)\n",
    "z_from_g = ak.any(abs(z.distinctParent.pdgId) == 21, axis = -1)\n",
    "z_from_proton = z_from_q | z_from_g\n",
    "print(len(z_from_proton))\n",
    "print(\"Nice!\")\n",
    "z_from_proton = z[z_from_proton]\n",
    "print(z_from_proton)\n",
    "z_from_proton = ak.flatten(z_from_proton)\n",
    "z_from_proton = z_from_proton[(abs(z_from_proton.distinctChildren.pdgId) == 11)]\n",
    "print(z_from_proton)\n",
    "\n"
   ]
  }
 ],
 "metadata": {
  "interpreter": {
   "hash": "b6c98a93a965d7c086eae3cbe05e142a03197a2e722b2493d5a73227b204401b"
  },
  "kernelspec": {
   "display_name": "Python 3.7.11 ('PDM')",
   "language": "python",
   "name": "python3"
  },
  "language_info": {
   "codemirror_mode": {
    "name": "ipython",
    "version": 3
   },
   "file_extension": ".py",
   "mimetype": "text/x-python",
   "name": "python",
   "nbconvert_exporter": "python",
   "pygments_lexer": "ipython3",
   "version": "3.7.11"
  },
  "orig_nbformat": 4
 },
 "nbformat": 4,
 "nbformat_minor": 2
}
