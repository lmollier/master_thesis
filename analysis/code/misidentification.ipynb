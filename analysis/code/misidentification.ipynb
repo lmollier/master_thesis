{
 "cells": [
  {
   "cell_type": "code",
   "execution_count": 1,
   "metadata": {},
   "outputs": [
    {
     "name": "stdout",
     "output_type": "stream",
     "text": [
      "done\n"
     ]
    }
   ],
   "source": [
    "import awkward as ak\n",
    "from coffea.nanoevents import NanoEventsFactory, NanoAODSchema\n",
    "import numpy as np\n",
    "fname = \"data_test.root\"\n",
    "\n",
    "\n",
    "\n",
    "events = NanoEventsFactory.from_root(fname, schemaclass=NanoAODSchema).events()\n",
    "print(\"done\")"
   ]
  },
  {
   "cell_type": "code",
   "execution_count": 2,
   "metadata": {},
   "outputs": [],
   "source": [
    "events['SelElectron'] = events.Electron[(events.Electron.pt > 20.) & (events.Electron.mvaFall17V2Iso_WP90 > 0.5)]\n",
    "events['SelMuon'] = events.Muon[(events.Muon.pt > 24.) & (events.Muon.mediumPromptId) & (events.Muon.pfRelIso03_all < 0.2) & (np.abs(events.Muon.dxy) < 0.005)]\n",
    "events['SelTau'] = events.Tau[(events.Tau.pt > 20.) & (events.Tau.idDeepTau2017v2p1VSmu > 0.5) & (events.Tau.idDeepTau2017v2p1VSe > 0.5) & (events.Tau.idDeepTau2017v2p1VSjet > 0.5)]\n"
   ]
  },
  {
   "cell_type": "code",
   "execution_count": 8,
   "metadata": {},
   "outputs": [
    {
     "name": "stdout",
     "output_type": "stream",
     "text": [
      "8583\n",
      "8583\n",
      "8571\n",
      "0\n"
     ]
    }
   ],
   "source": [
    "muon, electron = ak.unzip(ak.cartesian([events.SelMuon, events.SelElectron], nested=True))\n",
    "match = ak.any(muon.jetIdx == electron.jetIdx, axis=-1, mask_identity=False)\n",
    "notinjet = ak.any(muon.jetIdx == -1)\n",
    "#cut = np.logicalcut(match, notinjet)\n",
    "print(len(ak.flatten(events.SelMuon)))\n",
    "n_mu_before = ak.sum(ak.num(events.SelMuon))\n",
    "print(n_mu_before)\n",
    "#events['SelMuon_sing'] = events.SelMuon[(~(match1) | (notinjet1))]   \n",
    "events['SelMuon_sing'] = events.SelMuon[~(match)]    \n",
    "events['SelMuon_nojet'] = events.SelMuon[~(match) & notinjet]    \n",
    "\n",
    "n_mu_after = ak.sum(ak.num(events.SelMuon_sing))\n",
    "print(len(ak.flatten(events.SelMuon_sing)))\n",
    "print(len(ak.flatten(events.SelMuon_nojet)))\n",
    "\n",
    "#print(\"muon before selection = \"+str(n_mu_before) + \", muon after = \" + str(n_mu_after)+ \" ratio = \" + str(100*(n_mu_before -n_mu_after)/n_mu_before))\n",
    "\n",
    "\n"
   ]
  }
 ],
 "metadata": {
  "interpreter": {
   "hash": "b6c98a93a965d7c086eae3cbe05e142a03197a2e722b2493d5a73227b204401b"
  },
  "kernelspec": {
   "display_name": "Python 3.7.11 ('PDM')",
   "language": "python",
   "name": "python3"
  },
  "language_info": {
   "codemirror_mode": {
    "name": "ipython",
    "version": 3
   },
   "file_extension": ".py",
   "mimetype": "text/x-python",
   "name": "python",
   "nbconvert_exporter": "python",
   "pygments_lexer": "ipython3",
   "version": "3.7.11"
  },
  "orig_nbformat": 4
 },
 "nbformat": 4,
 "nbformat_minor": 2
}
