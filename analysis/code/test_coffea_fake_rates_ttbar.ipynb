{
 "cells": [
  {
   "cell_type": "code",
   "execution_count": 9,
   "metadata": {},
   "outputs": [
    {
     "name": "stdout",
     "output_type": "stream",
     "text": [
      "<Hist (pt_tau) instance at 0x1a916c23508>\n"
     ]
    }
   ],
   "source": [
    "###FOR TTBAR BACKGROUND\n",
    "####FOR EMU + TAU\n",
    "import awkward as ak\n",
    "from coffea.nanoevents import NanoEventsFactory, NanoAODSchema\n",
    "from coffea import  hist\n",
    "from helpers import delta_r, delta_phi, inv_mass_3p, cos_opening_angle, inv_mass, delta_eta\n",
    "from samples import signal_samples\n",
    "from helpers import files_from_dir, files_from_dirs\n",
    "import numpy as np\n",
    "import matplotlib.pyplot as plt\n",
    "import mplhep as hep\n",
    "import warnings\n",
    "from scipy.stats import chisquare\n",
    "from scipy.stats import ks_2samp\n",
    "import os\n",
    "plt.style.use([hep.style.ROOT])\n",
    "%matplotlib inline\n",
    "curr_os = os.name\n",
    "if(curr_os == \"nt\"):\n",
    "    local_dir = \"C:\\\\Users\\\\lucas\\\\Desktop\\\\PDM\\\\data\\\\backgrounds\\\\tt2l2nu\"\n",
    "if(curr_os == \"posix\"):\n",
    "    local_dir = \"/media/sf_PDM/data/backgrounds/tt2l2nu\"\n",
    "\n",
    "warnings.filterwarnings(\"ignore\")\n",
    "lumi = 60000. # pb-1\n",
    "xsec = 87.315 #pb\n",
    "scale = lumi * xsec\n",
    "samples = files_from_dir(local_dir),\n",
    "i_file = 1\n",
    "tot_events = 0\n",
    "file = samples[0][0]\n",
    "events = NanoEventsFactory.from_root(file, schemaclass=NanoAODSchema, entry_stop=10000).events()\n",
    "events['SelElectron'] = events.Electron[(events.Electron.pt > 24.) & (events.Electron.mvaFall17V2Iso_WP90 > 0.5)]\n",
    "events['SelMuon'] = events.Muon[(events.Muon.pt > 24.) & (events.Muon.mediumPromptId) & (events.Muon.pfRelIso03_all < 0.2) & (np.abs(events.Muon.dxy) < 0.005)]\n",
    "muon1, electron1 = ak.unzip(ak.cartesian([events.SelMuon, events.SelElectron], nested=True))\n",
    "match1 = ak.any(muon1.jetIdx == electron1.jetIdx, axis=-1, mask_identity=False)        \n",
    "events['SelMuon'] = events.SelMuon[(~(match1))]    \n",
    "events['SelTau'] = events.Tau[(events.Tau.pt > 20.) & (abs(events.Tau.eta) < 2.3)& (events.Tau.idDeepTau2017v2p1VSmu > 0.5) & (events.Tau.idDeepTau2017v2p1VSe > 0.5) & (events.Tau.idDeepTau2017v2p1VSjet >=8)]\n",
    "tau2, electron2 = ak.unzip(ak.cartesian([events.SelTau, events.SelElectron], nested=True))\n",
    "match2 = ak.any(tau2.jetIdx == electron2.jetIdx, axis=-1, mask_identity=False)\n",
    "tau3, muon3 = ak.unzip(ak.cartesian([events.SelTau, events.SelMuon], nested=True))\n",
    "match3 = ak.any(tau3.jetIdx == muon3.jetIdx, axis=-1, mask_identity=False)\n",
    "events['SelTau'] = events.SelTau[((~(match2) & ~(match3)) )]  \n",
    "\n",
    "events = events[ak.num(events.SelMuon) == 1]\n",
    "events = events[ak.num(events.SelElectron) == 1]\n",
    "jets = events.Jet[events.Jet.pt > 25.]\n",
    "bjets = jets[jets.btagDeepFlavB > 0.2770]\n",
    "one_bjet = ak.num(bjets) == 1\n",
    "no_bjet = ak.num(bjets) == 0\n",
    "\n",
    "CR_loose = events[one_bjet]\n",
    "CR_medium = events[one_bjet]\n",
    "CR_medium['SelTau'] = CR_medium.SelTau[CR_medium.SelTau.idDeepTau2017v2p1VSjet >=63]\n",
    "\n",
    "CR_loose = CR_loose[ak.num(CR_loose.SelTau) == 1]\n",
    "CR_medium = CR_medium[ak.num(CR_medium.SelTau) == 1]\n",
    "\n",
    "CR_loose_kin = ak.flatten(CR_loose.SelTau.pt)\n",
    "CR_medium_kin = ak.flatten(CR_medium.SelTau.pt)\n",
    "bins_pt_tau = []\n",
    "width = 3\n",
    "for i in range(20,100):\n",
    "    if((i) %width == 0):\n",
    "        bins_pt_tau.append(i)\n",
    "for i in range(100,220):\n",
    "    if(i%(width*4) == 0):\n",
    "        bins_pt_tau.append(i)     \n",
    "\n",
    "h_CR_loose = hist.Hist(\"CR_loose\", hist.Bin(\"pt_tau\", \"pt_tau [GeV]\", 100, 20, 220))\n",
    "h_CR_loose.fill(pt_tau = CR_loose_kin)\n",
    "\n",
    "h_CR_medium = hist.Hist(\"CR_loose_medium\", hist.Bin(\"pt_tau\", \"pt_tau [GeV]\", 100, 20, 220))\n",
    "h_CR_medium.fill(pt_tau = CR_medium_kin)\n",
    "\n",
    "print(h_CR_loose)"
   ]
  }
 ],
 "metadata": {
  "interpreter": {
   "hash": "b6c98a93a965d7c086eae3cbe05e142a03197a2e722b2493d5a73227b204401b"
  },
  "kernelspec": {
   "display_name": "Python 3.7.11 ('PDM')",
   "language": "python",
   "name": "python3"
  },
  "language_info": {
   "codemirror_mode": {
    "name": "ipython",
    "version": 3
   },
   "file_extension": ".py",
   "mimetype": "text/x-python",
   "name": "python",
   "nbconvert_exporter": "python",
   "pygments_lexer": "ipython3",
   "version": "3.7.11"
  },
  "orig_nbformat": 4
 },
 "nbformat": 4,
 "nbformat_minor": 2
}
