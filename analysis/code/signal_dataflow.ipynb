{
 "cells": [
  {
   "cell_type": "code",
   "execution_count": 4,
   "metadata": {},
   "outputs": [
    {
     "name": "stdout",
     "output_type": "stream",
     "text": [
      "for emutau: all -> selectron (1 only) -> selmuon (1 only) -> seltau (1 only)\n",
      "96498 -> 36422 -> 6447 -> 3882\n",
      "all is not emutau nb of events !!!!\n"
     ]
    }
   ],
   "source": [
    "import awkward as ak\n",
    "from coffea.nanoevents import NanoEventsFactory, NanoAODSchema\n",
    "from helpers import delta_r, delta_phi, inv_mass_3p, cos_opening_angle, inv_mass, delta_eta\n",
    "from samples import signal_samples\n",
    "from helpers import files_from_dir, files_from_dirs\n",
    "import numpy as np\n",
    "import matplotlib.pyplot as plt\n",
    "%matplotlib inline\n",
    "local_dir = \"C:\\\\Users\\\\lucas\\\\Desktop\\\\PDM\\\\data\\\\HeavyNeutrino_trilepton\\\\HeavyNeutrino_trilepton_M-300_V-0p01_tau_NLO_tauhFilter_TuneCP5_13TeV-madgraph-pythia8\"\n",
    "samples = files_from_dir(local_dir),\n",
    "\n",
    "\n",
    "for file in samples[0]:\n",
    "        events = NanoEventsFactory.from_root(file, schemaclass=NanoAODSchema).events()\n",
    "        events['SelElectron'] = events.Electron[(events.Electron.pt > 24.) & (events.Electron.mvaFall17V2Iso_WP90 > 0.5)]\n",
    "        events_1electron = events[ak.num(events.SelElectron) == 1]\n",
    "        \n",
    "        events['SelMuon'] = events.Muon[(events.Muon.pt > 24.) & (events.Muon.mediumPromptId) & (events.Muon.pfRelIso03_all < 0.2) & (np.abs(events.Muon.dxy) < 0.005)]\n",
    "\n",
    "       \n",
    "        muon1, electron1 = ak.unzip(ak.cartesian([events.SelMuon, events.SelElectron], nested=True))\n",
    "        match1 = ak.any(muon1.jetIdx == electron1.jetIdx, axis=-1, mask_identity=False)\n",
    "        notinjet1 = ak.any(muon1.jetIdx == -1) \n",
    "        events['SelMuon'] = events.SelMuon[(~(match1))]   \n",
    "        events_1muon = events[ak.num(events.SelMuon) == 1]\n",
    "        events_1muon =  events_1muon[ak.num(events_1muon.SelElectron) == 1]\n",
    "\n",
    "        \n",
    "        \n",
    "        events['SelTau'] = events.Tau[(events.Tau.pt > 20.) & (abs(events.Tau.eta) < 2.3)& (events.Tau.idDeepTau2017v2p1VSmu > 0.5) & (events.Tau.idDeepTau2017v2p1VSe > 0.5) & (events.Tau.idDeepTau2017v2p1VSjet >=8)]\n",
    "        tau2, electron2 = ak.unzip(ak.cartesian([events.SelTau, events.SelElectron], nested=True))\n",
    "        match2 = ak.any(tau2.jetIdx == electron2.jetIdx, axis=-1, mask_identity=False)\n",
    "        tau3, electron3 = ak.unzip(ak.cartesian([events.SelTau, events.SelElectron], nested=True))\n",
    "        match3 = ak.any(tau3.jetIdx == electron3.jetIdx, axis=-1, mask_identity=False)\n",
    "        notinjet2 = ak.any(tau2.jetIdx == int(-1))\n",
    "        notinjet3 = ak.any(tau3.jetIdx == int(-1))\n",
    "        \n",
    "        events['SelTau'] = events.SelTau[((~(match2) & ~(match3)) )]  \n",
    "        events_1tau = events[ak.num(events.SelTau) == 1]\n",
    "        events_1tau = events_1tau[ak.num(events_1tau.SelElectron) == 1]\n",
    "        events_1tau = events_1tau[ak.num(events_1tau.SelMuon) == 1]\n",
    "\n",
    "        print(\"for emutau: all -> selectron (1 only) -> selmuon (1 only) -> seltau (1 only)\")\n",
    "        print(str(len(events)) + \" -> \"+ str(len(events_1electron)) + \" -> \" + str(len(events_1muon)) + \" -> \" + str(len(events_1tau)))\n",
    "        print(\"all is not emutau nb of events !!!!\")\n"
   ]
  }
 ],
 "metadata": {
  "interpreter": {
   "hash": "b6c98a93a965d7c086eae3cbe05e142a03197a2e722b2493d5a73227b204401b"
  },
  "kernelspec": {
   "display_name": "Python 3.7.11 ('PDM')",
   "language": "python",
   "name": "python3"
  },
  "language_info": {
   "codemirror_mode": {
    "name": "ipython",
    "version": 3
   },
   "file_extension": ".py",
   "mimetype": "text/x-python",
   "name": "python",
   "nbconvert_exporter": "python",
   "pygments_lexer": "ipython3",
   "version": "3.7.11"
  },
  "orig_nbformat": 4
 },
 "nbformat": 4,
 "nbformat_minor": 2
}
