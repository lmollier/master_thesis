{
 "cells": [
  {
   "cell_type": "code",
   "execution_count": 1,
   "id": "81694959",
   "metadata": {},
   "outputs": [
    {
     "name": "stderr",
     "output_type": "stream",
     "text": [
      "/afs/cern.ch/user/l/lmollier/miniconda3/lib/python3.9/site-packages/coffea/nanoevents/schemas/nanoaod.py:193: RuntimeWarning: Missing cross-reference index for Electron_photonIdx => Photon\n",
      "  warnings.warn(\n",
      "/afs/cern.ch/user/l/lmollier/miniconda3/lib/python3.9/site-packages/coffea/nanoevents/schemas/nanoaod.py:193: RuntimeWarning: Missing cross-reference index for FatJet_genJetAK8Idx => GenJetAK8\n",
      "  warnings.warn(\n",
      "/afs/cern.ch/user/l/lmollier/miniconda3/lib/python3.9/site-packages/coffea/nanoevents/schemas/nanoaod.py:193: RuntimeWarning: Missing cross-reference index for FatJet_subJetIdx1 => SubJet\n",
      "  warnings.warn(\n",
      "/afs/cern.ch/user/l/lmollier/miniconda3/lib/python3.9/site-packages/coffea/nanoevents/schemas/nanoaod.py:193: RuntimeWarning: Missing cross-reference index for FatJet_subJetIdx2 => SubJet\n",
      "  warnings.warn(\n",
      "/afs/cern.ch/user/l/lmollier/miniconda3/lib/python3.9/site-packages/coffea/nanoevents/schemas/nanoaod.py:193: RuntimeWarning: Missing cross-reference index for FsrPhoton_muonIdx => Muon\n",
      "  warnings.warn(\n",
      "/afs/cern.ch/user/l/lmollier/miniconda3/lib/python3.9/site-packages/coffea/nanoevents/schemas/nanoaod.py:193: RuntimeWarning: Missing cross-reference index for Jet_electronIdx1 => Electron\n",
      "  warnings.warn(\n",
      "/afs/cern.ch/user/l/lmollier/miniconda3/lib/python3.9/site-packages/coffea/nanoevents/schemas/nanoaod.py:193: RuntimeWarning: Missing cross-reference index for Jet_electronIdx2 => Electron\n",
      "  warnings.warn(\n",
      "/afs/cern.ch/user/l/lmollier/miniconda3/lib/python3.9/site-packages/coffea/nanoevents/schemas/nanoaod.py:193: RuntimeWarning: Missing cross-reference index for Jet_muonIdx1 => Muon\n",
      "  warnings.warn(\n",
      "/afs/cern.ch/user/l/lmollier/miniconda3/lib/python3.9/site-packages/coffea/nanoevents/schemas/nanoaod.py:193: RuntimeWarning: Missing cross-reference index for Jet_muonIdx2 => Muon\n",
      "  warnings.warn(\n",
      "/afs/cern.ch/user/l/lmollier/miniconda3/lib/python3.9/site-packages/coffea/nanoevents/schemas/nanoaod.py:193: RuntimeWarning: Missing cross-reference index for Muon_fsrPhotonIdx => FsrPhoton\n",
      "  warnings.warn(\n",
      "/afs/cern.ch/user/l/lmollier/miniconda3/lib/python3.9/site-packages/coffea/nanoevents/schemas/nanoaod.py:193: RuntimeWarning: Missing cross-reference index for Photon_electronIdx => Electron\n",
      "  warnings.warn(\n",
      "/afs/cern.ch/user/l/lmollier/miniconda3/lib/python3.9/site-packages/coffea/nanoevents/schemas/nanoaod.py:193: RuntimeWarning: Missing cross-reference index for Photon_genPartIdx => GenPart\n",
      "  warnings.warn(\n",
      "/afs/cern.ch/user/l/lmollier/miniconda3/lib/python3.9/site-packages/coffea/nanoevents/schemas/nanoaod.py:193: RuntimeWarning: Missing cross-reference index for Photon_jetIdx => Jet\n",
      "  warnings.warn(\n"
     ]
    }
   ],
   "source": [
    "import awkward as ak\n",
    "from coffea.nanoevents import NanoEventsFactory, NanoAODSchema\n",
    "from helpers import delta_r, delta_phi, inv_mass_3p, cos_opening_angle, inv_mass, delta_eta\n",
    "from samples import signal_samples\n",
    "from helpers import files_from_dir, files_from_dirs\n",
    "import numpy as np\n",
    "import matplotlib.pyplot as plt\n",
    "%matplotlib inline\n",
    "local_dir = \"/eos/user/l/lmollier/PDM/data/bck_v2/MC_background/DY1Jets_To_LL_M-50\"\n",
    "samples = files_from_dir(local_dir),\n",
    "i_file = 1\n",
    "tot_events = 0\n",
    "file = samples[0][0]\n",
    "events = NanoEventsFactory.from_root(file, schemaclass=NanoAODSchema).events()\n",
    "print(len(events))\n",
    "events[\"prompt_e\"] = events.Electron[events.Electron.genPartFlav == 1]\n",
    "events[\"prompt_m\"] = events.Muon[events.Muon.genPartFlav == 1]\n",
    "match_prompt_tau_to_h = events.Tau.genPartFlav == 5\n",
    "match_prompt_tau_to_e = events.Tau.genPartFlav == 3\n",
    "match_prompt_tau_to_m = events.Tau.genPartFlav == 4\n",
    "match_prompt_tau_prompt_e = events.Tau.genPartFlav == 1\n",
    "match_prompt_tau_prompt_m = events.Tau.genPartFlav == 2\n",
    "events[\"prompt_t\"] = events.Tau[match_prompt_tau_to_h|match_prompt_tau_to_e|match_prompt_tau_to_m|match_prompt_tau_prompt_e|match_prompt_tau_prompt_m]\n",
    "events[\"prompt_l\"] = ak.concatenate([events.prompt_e,events.prompt_m, events.prompt_t], axis = -1)\n",
    "events = events[ak.num(events.prompt_l) ==3]\n",
    "print(len(ak.num(events.prompt_l)))"
   ]
  },
  {
   "cell_type": "code",
   "execution_count": 2,
   "id": "c75f7adf",
   "metadata": {},
   "outputs": [
    {
     "name": "stdout",
     "output_type": "stream",
     "text": [
      "[<event 1:1036:3404520>, <event 1:1036:3404600>, ... <event 1:59764:196561177>]\n",
      "242023\n"
     ]
    }
   ],
   "source": [
    "print(events)\n",
    "print(len(events))"
   ]
  },
  {
   "cell_type": "code",
   "execution_count": 5,
   "id": "8bea1cfa",
   "metadata": {},
   "outputs": [],
   "source": []
  },
  {
   "cell_type": "code",
   "execution_count": 7,
   "id": "1a9476f5",
   "metadata": {},
   "outputs": [
    {
     "name": "stdout",
     "output_type": "stream",
     "text": [
      "[[Electron, Electron, Tau, Tau], [Electron, ... Tau], [Muon, Muon, Tau, Tau]]\n",
      "[4, 4, 2, 4, 2, 2, 4, 4, 4, 4, 4, 4, 4, 4, ... 4, 4, 4, 4, 2, 4, 4, 4, 4, 4, 4, 4, 4]\n"
     ]
    }
   ],
   "source": [
    "print(events.prompt_l)\n",
    "print(ak.num(events.prompt_l))\n"
   ]
  },
  {
   "cell_type": "code",
   "execution_count": 10,
   "id": "e8ef60b2",
   "metadata": {},
   "outputs": [
    {
     "name": "stdout",
     "output_type": "stream",
     "text": [
      "[3, 3, 3, 3, 3, 3, 3, 3, 3, 3, 3, 3, 3, 3, ... 3, 3, 3, 3, 3, 3, 3, 3, 3, 3, 3, 3, 3]\n"
     ]
    }
   ],
   "source": [
    "\n"
   ]
  },
  {
   "cell_type": "code",
   "execution_count": null,
   "id": "7526bcab",
   "metadata": {},
   "outputs": [],
   "source": []
  }
 ],
 "metadata": {
  "kernelspec": {
   "display_name": "Python 3 (ipykernel)",
   "language": "python",
   "name": "python3"
  },
  "language_info": {
   "codemirror_mode": {
    "name": "ipython",
    "version": 3
   },
   "file_extension": ".py",
   "mimetype": "text/x-python",
   "name": "python",
   "nbconvert_exporter": "python",
   "pygments_lexer": "ipython3",
   "version": "3.9.12"
  }
 },
 "nbformat": 4,
 "nbformat_minor": 5
}
